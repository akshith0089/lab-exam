{
  "nbformat": 4,
  "nbformat_minor": 0,
  "metadata": {
    "colab": {
      "provenance": [],
      "authorship_tag": "ABX9TyOVPOP/4KMWLW4ZIiRWTHcb",
      "include_colab_link": true
    },
    "kernelspec": {
      "name": "python3",
      "display_name": "Python 3"
    },
    "language_info": {
      "name": "python"
    }
  },
  "cells": [
    {
      "cell_type": "markdown",
      "metadata": {
        "id": "view-in-github",
        "colab_type": "text"
      },
      "source": [
        "<a href=\"https://colab.research.google.com/github/akshith0089/lab-exam/blob/main/akshith.ipynb\" target=\"_parent\"><img src=\"https://colab.research.google.com/assets/colab-badge.svg\" alt=\"Open In Colab\"/></a>"
      ]
    },
    {
      "cell_type": "code",
      "execution_count": 1,
      "metadata": {
        "id": "V9SMJMRMfM7O"
      },
      "outputs": [],
      "source": [
        "import pandas as pd"
      ]
    },
    {
      "cell_type": "code",
      "source": [
        "from google.colab import drive\n",
        "drive.mount=('/content/Copy of ODD1.xlsx')"
      ],
      "metadata": {
        "id": "71nKgomNfXr_"
      },
      "execution_count": 2,
      "outputs": []
    },
    {
      "cell_type": "code",
      "source": [
        "df=pd.read_excel('/content/Copy of ODD1.xlsx')"
      ],
      "metadata": {
        "id": "YjaOdzqBffKr"
      },
      "execution_count": 4,
      "outputs": []
    },
    {
      "cell_type": "code",
      "source": [
        "average_cost_per_destination = df.groupby('Destination')['Total_Cost'].mean()\n",
        "print(average_cost_per_destination)"
      ],
      "metadata": {
        "colab": {
          "base_uri": "https://localhost:8080/"
        },
        "id": "sCo_oZeYfwHV",
        "outputId": "f4bae89c-57c5-4f40-e2df-dac8bbdc4afd"
      },
      "execution_count": 7,
      "outputs": [
        {
          "output_type": "stream",
          "name": "stdout",
          "text": [
            "Destination\n",
            "ALBANIA           73664.210000\n",
            "ALEJANDROSHIRE    78168.730000\n",
            "ARUBA              8573.290000\n",
            "Adamsbury         22309.600000\n",
            "Adamsfurt         15705.440000\n",
            "                      ...     \n",
            "Zacharyberg       41751.850000\n",
            "Zambia            20658.930000\n",
            "Zamoramouth       84404.310000\n",
            "Zimbabwe          31329.406667\n",
            "Zimmermantown     59139.600000\n",
            "Name: Total_Cost, Length: 858, dtype: float64\n"
          ]
        }
      ]
    },
    {
      "cell_type": "code",
      "source": [
        "unique_destinations= df[\"Destination\"].nunique()\n",
        "print(\"Number of Unique Destinations:\", unique_destinations)"
      ],
      "metadata": {
        "colab": {
          "base_uri": "https://localhost:8080/"
        },
        "id": "XWlKtxURf5GF",
        "outputId": "4ec09dec-5e3a-4300-a6ca-a003e1ffee77"
      },
      "execution_count": 8,
      "outputs": [
        {
          "output_type": "stream",
          "name": "stdout",
          "text": [
            "Number of Unique Destinations: 858\n"
          ]
        }
      ]
    },
    {
      "cell_type": "code",
      "source": [
        "invalid_travelers = df[(df[\"Number_of_Travelers\"] <= 0) | (df[\"Number_of_Travelers\"] > 100)]\n",
        "\n",
        "if not invalid_travelers.empty:\n",
        "    print(\"Invalid Number_of_Travelers found:\")\n",
        "    print(invalid_travelers)\n",
        "else:\n",
        "    print(\"All traveler numbers are positive and reasonable.\")"
      ],
      "metadata": {
        "colab": {
          "base_uri": "https://localhost:8080/"
        },
        "id": "POT9g8OFf_Uv",
        "outputId": "c3d18676-88d0-40e4-9da9-13b6e23e60d8"
      },
      "execution_count": 9,
      "outputs": [
        {
          "output_type": "stream",
          "name": "stdout",
          "text": [
            "All traveler numbers are positive and reasonable.\n"
          ]
        }
      ]
    },
    {
      "cell_type": "code",
      "source": [
        "import pandas as pd\n",
        "import re\n",
        "df = pd.read_excel(\"/content/Copy of ODD1.xlsx\")\n",
        "patterns = {\n",
        "    \"YYYY-MM-DD - YYYY-MM-DD\": re.compile(r\"\\d{4}-\\d{2}-\\d{2} - \\d{4}-\\d{2}-\\d{2}\"),\n",
        "    \"YYYY/MM/DD / YYYY/MM/DD\": re.compile(r\"\\d{4}/\\d{2}/\\d{2} / \\d{4}/\\d{2}/\\d{2}\")\n",
        "}\n",
        "\n",
        "counts = {k: 0 for k in patterns}\n",
        "inconsistent = []\n",
        "\n",
        "for date in df[\"Travel_Dates\"].dropna():\n",
        "    if any(p.fullmatch(date) for p in patterns.values()):\n",
        "        for fmt, p in patterns.items():\n",
        "            if p.fullmatch(date):\n",
        "                counts[fmt] += 1\n",
        "    else:\n",
        "        inconsistent.append(date)\n",
        "print(\"Date Formats:\", counts)\n",
        "if inconsistent:\n",
        "    print(\"\\nInconsistent Dates:\", inconsistent[:10])\n",
        "else:\n",
        "    print(\"\\nAll dates are consistent.\")\n",
        ""
      ],
      "metadata": {
        "colab": {
          "base_uri": "https://localhost:8080/"
        },
        "id": "d1CMfVK9gAk3",
        "outputId": "cf44da6e-33ef-4a24-ff62-30a3bfcae7c7"
      },
      "execution_count": 10,
      "outputs": [
        {
          "output_type": "stream",
          "name": "stdout",
          "text": [
            "Date Formats: {'YYYY-MM-DD - YYYY-MM-DD': 4687, 'YYYY/MM/DD / YYYY/MM/DD': 513}\n",
            "\n",
            "All dates are consistent.\n"
          ]
        }
      ]
    },
    {
      "cell_type": "code",
      "source": [
        "import pandas as pd\n",
        "\n",
        "df = pd.read_excel(\"/content/Copy of ODD1.xlsx\")\n",
        "df[[\"Start_Date\", \"End_Date\"]] = df[\"Travel_Dates\"].str.split(\" - \", expand=True).apply(pd.to_datetime, errors=\"coerce\")\n",
        "df = df.dropna(subset=[\"Start_Date\", \"End_Date\"])\n",
        "df[\"Travel_Duration\"] = (df[\"End_Date\"] - df[\"Start_Date\"]).dt.days\n",
        "\n",
        "print(\"Earliest:\", df[\"Start_Date\"].min(), \"\\nLatest:\", df[\"End_Date\"].max(), \"\\nMost Common Period:\", df[\"Travel_Duration\"].mode()[0])\n",
        ""
      ],
      "metadata": {
        "colab": {
          "base_uri": "https://localhost:8080/"
        },
        "id": "bM4XhKHOgKZC",
        "outputId": "9c6a4e99-3862-4857-e7ba-b3667b23a365"
      },
      "execution_count": 11,
      "outputs": [
        {
          "output_type": "stream",
          "name": "stdout",
          "text": [
            "Earliest: 2023-08-20 00:00:00 \n",
            "Latest: 2025-08-19 00:00:00 \n",
            "Most Common Period: 291\n"
          ]
        }
      ]
    }
  ]
}